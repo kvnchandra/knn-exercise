{
 "cells": [
  {
   "cell_type": "markdown",
   "metadata": {},
   "source": [
    "# Kevin Chandra ( D421 16 311)"
   ]
  },
  {
   "cell_type": "markdown",
   "metadata": {},
   "source": [
    "## K Nearest Neighbors (KNN)"
   ]
  },
  {
   "cell_type": "code",
   "execution_count": 1,
   "metadata": {},
   "outputs": [],
   "source": [
    "import numpy as np\n",
    "import pandas as pd\n",
    "import matplotlib.pyplot as plt"
   ]
  },
  {
   "cell_type": "code",
   "execution_count": 2,
   "metadata": {},
   "outputs": [],
   "source": [
    "# membuat plot dari data training dan data testing\n",
    "def plot_data(df_train, test = None):\n",
    "    \n",
    "    # menentukan titik x,y dari data train yang memiliki Default \"Y\"\n",
    "    x_default_y = np.array(df_train['Age'][df_train['Default']=='Y'], dtype=np.float)\n",
    "    y_default_y = np.array(df_train['Loan'][df_train['Default']=='Y'], dtype=np.float)\n",
    "\n",
    "    # menentukan titik x,y dari data train yang memiliki Default \"N\"\n",
    "    x_default_n = np.array(df_train['Age'][df_train['Default']=='N'], dtype=np.float)\n",
    "    y_default_n = np.array(df_train['Loan'][df_train['Default']=='N'], dtype=np.float)\n",
    "\n",
    "    # memplot data yang diperoleh\n",
    "    plt.scatter(x_default_y, y_default_y, marker = 'o', c='g', label='Y')\n",
    "    plt.scatter(x_default_n, y_default_n, marker = 'x', c='r', label='N')\n",
    "    \n",
    "    # memeriksa apakah ada data test yang dimasukkan, jika ada maka data test juga diplot\n",
    "    if(test != None):\n",
    "        plt.scatter(test[0], test[1], marker = '*', c = 'b', s=200)\n",
    "\n",
    "    # menampilkan legenda dan grid pada plot\n",
    "    plt.legend()\n",
    "    plt.grid(True)\n",
    "\n",
    "    # menampilkan plot\n",
    "    plt.show()"
   ]
  },
  {
   "cell_type": "code",
   "execution_count": 3,
   "metadata": {},
   "outputs": [],
   "source": [
    "# function yang akan menjalankan program algoritma KNN\n",
    "def knn_classifier(df_train, test, k = 3):\n",
    "    # mengubah format data train menjadi array\n",
    "    np_train = np.array(df_train)\n",
    "    dist = []\n",
    "    \n",
    "    # mengitung jarak dari setiap titik pada data train dengan titik data test\n",
    "    for i in range(np_train.shape[0]):\n",
    "        dist_count = 0\n",
    "        data = np_train[i]\n",
    "        \n",
    "        # euclidean distance\n",
    "        for j in range(len(data)-1):\n",
    "            dist_count += (float(data[j]) - test[j])**2\n",
    "        \n",
    "        # menambahkan jarak dan target label ke dalam list\n",
    "        dist.append([np.sqrt(dist_count), data[2]])\n",
    "    \n",
    "    # menampilkan hasil perhitungan jarak beserta target label masing-masing data train\n",
    "    print_df = pd.DataFrame(data = dist, columns=['Distance To Test Data', 'Default'])\n",
    "    print(print_df)\n",
    "    \n",
    "    # mengurutkan jarak tiap titik dari kecil ke besar\n",
    "    dist.sort(key=lambda x: x[0])\n",
    "    \n",
    "    # mengambil tetangga titik data test sebanyak k data\n",
    "    neighbors = []\n",
    "    for i in range(k):\n",
    "        neighbors.append(dist[i][1])\n",
    "    \n",
    "    # mengembalikan nilai target label terbanyak dari k data sebagai predicted label\n",
    "    return max(set(neighbors), key=neighbors.count)"
   ]
  },
  {
   "cell_type": "code",
   "execution_count": 4,
   "metadata": {
    "scrolled": true
   },
   "outputs": [
    {
     "data": {
      "text/html": [
       "<div>\n",
       "<style scoped>\n",
       "    .dataframe tbody tr th:only-of-type {\n",
       "        vertical-align: middle;\n",
       "    }\n",
       "\n",
       "    .dataframe tbody tr th {\n",
       "        vertical-align: top;\n",
       "    }\n",
       "\n",
       "    .dataframe thead th {\n",
       "        text-align: right;\n",
       "    }\n",
       "</style>\n",
       "<table border=\"1\" class=\"dataframe\">\n",
       "  <thead>\n",
       "    <tr style=\"text-align: right;\">\n",
       "      <th></th>\n",
       "      <th>Age</th>\n",
       "      <th>Loan</th>\n",
       "      <th>Default</th>\n",
       "    </tr>\n",
       "  </thead>\n",
       "  <tbody>\n",
       "    <tr>\n",
       "      <th>0</th>\n",
       "      <td>25</td>\n",
       "      <td>40000</td>\n",
       "      <td>N</td>\n",
       "    </tr>\n",
       "    <tr>\n",
       "      <th>1</th>\n",
       "      <td>35</td>\n",
       "      <td>60000</td>\n",
       "      <td>N</td>\n",
       "    </tr>\n",
       "    <tr>\n",
       "      <th>2</th>\n",
       "      <td>45</td>\n",
       "      <td>80000</td>\n",
       "      <td>N</td>\n",
       "    </tr>\n",
       "    <tr>\n",
       "      <th>3</th>\n",
       "      <td>20</td>\n",
       "      <td>20000</td>\n",
       "      <td>N</td>\n",
       "    </tr>\n",
       "    <tr>\n",
       "      <th>4</th>\n",
       "      <td>35</td>\n",
       "      <td>120000</td>\n",
       "      <td>N</td>\n",
       "    </tr>\n",
       "    <tr>\n",
       "      <th>5</th>\n",
       "      <td>52</td>\n",
       "      <td>18000</td>\n",
       "      <td>N</td>\n",
       "    </tr>\n",
       "    <tr>\n",
       "      <th>6</th>\n",
       "      <td>23</td>\n",
       "      <td>95000</td>\n",
       "      <td>Y</td>\n",
       "    </tr>\n",
       "    <tr>\n",
       "      <th>7</th>\n",
       "      <td>40</td>\n",
       "      <td>62000</td>\n",
       "      <td>Y</td>\n",
       "    </tr>\n",
       "    <tr>\n",
       "      <th>8</th>\n",
       "      <td>60</td>\n",
       "      <td>100000</td>\n",
       "      <td>Y</td>\n",
       "    </tr>\n",
       "    <tr>\n",
       "      <th>9</th>\n",
       "      <td>48</td>\n",
       "      <td>220000</td>\n",
       "      <td>Y</td>\n",
       "    </tr>\n",
       "    <tr>\n",
       "      <th>10</th>\n",
       "      <td>33</td>\n",
       "      <td>150000</td>\n",
       "      <td>Y</td>\n",
       "    </tr>\n",
       "  </tbody>\n",
       "</table>\n",
       "</div>"
      ],
      "text/plain": [
       "   Age    Loan Default\n",
       "0   25   40000       N\n",
       "1   35   60000       N\n",
       "2   45   80000       N\n",
       "3   20   20000       N\n",
       "4   35  120000       N\n",
       "5   52   18000       N\n",
       "6   23   95000       Y\n",
       "7   40   62000       Y\n",
       "8   60  100000       Y\n",
       "9   48  220000       Y\n",
       "10  33  150000       Y"
      ]
     },
     "execution_count": 4,
     "metadata": {},
     "output_type": "execute_result"
    }
   ],
   "source": [
    "# menginisialisasi data training\n",
    "df_train = pd.DataFrame(data = np.array([[25, 40000, 'N'],\n",
    "                                        [35, 60000, 'N'],\n",
    "                                        [45, 80000, 'N'],\n",
    "                                        [20, 20000, 'N'],\n",
    "                                        [35, 120000, 'N'],\n",
    "                                        [52, 18000, 'N'],\n",
    "                                        [23, 95000, 'Y'],\n",
    "                                        [40, 62000, 'Y'],\n",
    "                                        [60, 100000, 'Y'],\n",
    "                                        [48, 220000, 'Y'],\n",
    "                                        [33, 150000, 'Y']]),\n",
    "                       columns = ['Age', 'Loan', 'Default'])\n",
    "df_train"
   ]
  },
  {
   "cell_type": "code",
   "execution_count": 5,
   "metadata": {},
   "outputs": [
    {
     "data": {
      "image/png": "[encoded data removed]",
      "text/plain": [
       "<Figure size 432x288 with 1 Axes>"
      ]
     },
     "metadata": {
      "needs_background": "light"
     },
     "output_type": "display_data"
    }
   ],
   "source": [
    "# menampilkan plot dari data training\n",
    "plot_data(df_train)"
   ]
  },
  {
   "cell_type": "code",
   "execution_count": 6,
   "metadata": {},
   "outputs": [
    {
     "data": {
      "image/png": "[encoded data removed]",
      "text/plain": [
       "<Figure size 432x288 with 1 Axes>"
      ]
     },
     "metadata": {
      "needs_background": "light"
     },
     "output_type": "display_data"
    }
   ],
   "source": [
    "# menginisialisasi dan menampilkan plot dari data testing\n",
    "test_data = [48, 142000]\n",
    "\n",
    "plot_data(df_train, test_data)"
   ]
  },
  {
   "cell_type": "code",
   "execution_count": 7,
   "metadata": {},
   "outputs": [
    {
     "name": "stdout",
     "output_type": "stream",
     "text": [
      "    Distance To Test Data Default\n",
      "0           102000.002593       N\n",
      "1            82000.001030       N\n",
      "2            62000.000073       N\n",
      "3           122000.003213       N\n",
      "4            22000.003841       N\n",
      "5           124000.000065       N\n",
      "6            47000.006649       Y\n",
      "7            80000.000400       Y\n",
      "8            42000.001714       Y\n",
      "9            78000.000000       Y\n",
      "10            8000.014062       Y\n",
      "\n",
      "Default Data Test : \u001b[1mY\u001b[0m\n"
     ]
    }
   ],
   "source": [
    "# menjalankan algoritma KNN dan menampilkan predicted label\n",
    "print('\\nDefault Data Test : ' + '\\033[1m' + knn_classifier(df_train, test_data) + '\\033[0m')"
   ]
  },
  {
   "cell_type": "code",
   "execution_count": null,
   "metadata": {},
   "outputs": [],
   "source": []
  },
  {
   "cell_type": "code",
   "execution_count": null,
   "metadata": {},
   "outputs": [],
   "source": []
  },
  {
   "cell_type": "markdown",
   "metadata": {},
   "source": [
    "## KNN with Standardized Distance "
   ]
  },
  {
   "cell_type": "code",
   "execution_count": 8,
   "metadata": {},
   "outputs": [],
   "source": [
    "# function menstandarisasi data train maupun data test yang akan digunakan\n",
    "def standardized_data(df_train, test):\n",
    "    # deklarasi variabel\n",
    "    dict_train = {}\n",
    "    test_data = []\n",
    "    i = 0\n",
    "    \n",
    "    # melakukan standarisasi tiap data dengan rumus = x - min / max - min\n",
    "    for col in df_train.columns[:-1]:\n",
    "        data = list(np.array(df_train[col], dtype=np.float))\n",
    "        min_value = min(data)\n",
    "        max_value = max(data)\n",
    "        data = [(x-min_value)/(max_value-min_value) for x in data]\n",
    "        dict_train[col] = data\n",
    "        \n",
    "        # melakukan standarisasi untuk data test\n",
    "        test_data.append((test[i]-min_value)/(max_value-min_value))\n",
    "        i += 1\n",
    "    \n",
    "    # menambahkan label dari tiap data yang telak distandarisasi\n",
    "    dict_train[df_train.columns[-1]] = df_train[df_train.columns[-1]]\n",
    "    df_train = pd.DataFrame(dict_train)\n",
    "    \n",
    "    # mengembalikan data train dan test yang telah distandarisasi\n",
    "    return [[df_train], test_data]"
   ]
  },
  {
   "cell_type": "code",
   "execution_count": 9,
   "metadata": {},
   "outputs": [],
   "source": [
    "# menstandarisasi data train dan data test\n",
    "[[std_df_train], std_test_data] = standardized_data(df_train, test_data)"
   ]
  },
  {
   "cell_type": "code",
   "execution_count": 10,
   "metadata": {},
   "outputs": [
    {
     "data": {
      "text/html": [
       "<div>\n",
       "<style scoped>\n",
       "    .dataframe tbody tr th:only-of-type {\n",
       "        vertical-align: middle;\n",
       "    }\n",
       "\n",
       "    .dataframe tbody tr th {\n",
       "        vertical-align: top;\n",
       "    }\n",
       "\n",
       "    .dataframe thead th {\n",
       "        text-align: right;\n",
       "    }\n",
       "</style>\n",
       "<table border=\"1\" class=\"dataframe\">\n",
       "  <thead>\n",
       "    <tr style=\"text-align: right;\">\n",
       "      <th></th>\n",
       "      <th>Age</th>\n",
       "      <th>Loan</th>\n",
       "      <th>Default</th>\n",
       "    </tr>\n",
       "  </thead>\n",
       "  <tbody>\n",
       "    <tr>\n",
       "      <th>0</th>\n",
       "      <td>0.125</td>\n",
       "      <td>0.108911</td>\n",
       "      <td>N</td>\n",
       "    </tr>\n",
       "    <tr>\n",
       "      <th>1</th>\n",
       "      <td>0.375</td>\n",
       "      <td>0.207921</td>\n",
       "      <td>N</td>\n",
       "    </tr>\n",
       "    <tr>\n",
       "      <th>2</th>\n",
       "      <td>0.625</td>\n",
       "      <td>0.306931</td>\n",
       "      <td>N</td>\n",
       "    </tr>\n",
       "    <tr>\n",
       "      <th>3</th>\n",
       "      <td>0.000</td>\n",
       "      <td>0.009901</td>\n",
       "      <td>N</td>\n",
       "    </tr>\n",
       "    <tr>\n",
       "      <th>4</th>\n",
       "      <td>0.375</td>\n",
       "      <td>0.504950</td>\n",
       "      <td>N</td>\n",
       "    </tr>\n",
       "    <tr>\n",
       "      <th>5</th>\n",
       "      <td>0.800</td>\n",
       "      <td>0.000000</td>\n",
       "      <td>N</td>\n",
       "    </tr>\n",
       "    <tr>\n",
       "      <th>6</th>\n",
       "      <td>0.075</td>\n",
       "      <td>0.381188</td>\n",
       "      <td>Y</td>\n",
       "    </tr>\n",
       "    <tr>\n",
       "      <th>7</th>\n",
       "      <td>0.500</td>\n",
       "      <td>0.217822</td>\n",
       "      <td>Y</td>\n",
       "    </tr>\n",
       "    <tr>\n",
       "      <th>8</th>\n",
       "      <td>1.000</td>\n",
       "      <td>0.405941</td>\n",
       "      <td>Y</td>\n",
       "    </tr>\n",
       "    <tr>\n",
       "      <th>9</th>\n",
       "      <td>0.700</td>\n",
       "      <td>1.000000</td>\n",
       "      <td>Y</td>\n",
       "    </tr>\n",
       "    <tr>\n",
       "      <th>10</th>\n",
       "      <td>0.325</td>\n",
       "      <td>0.653465</td>\n",
       "      <td>Y</td>\n",
       "    </tr>\n",
       "  </tbody>\n",
       "</table>\n",
       "</div>"
      ],
      "text/plain": [
       "      Age      Loan Default\n",
       "0   0.125  0.108911       N\n",
       "1   0.375  0.207921       N\n",
       "2   0.625  0.306931       N\n",
       "3   0.000  0.009901       N\n",
       "4   0.375  0.504950       N\n",
       "5   0.800  0.000000       N\n",
       "6   0.075  0.381188       Y\n",
       "7   0.500  0.217822       Y\n",
       "8   1.000  0.405941       Y\n",
       "9   0.700  1.000000       Y\n",
       "10  0.325  0.653465       Y"
      ]
     },
     "execution_count": 10,
     "metadata": {},
     "output_type": "execute_result"
    }
   ],
   "source": [
    "# menampilkan data train yang telah distandarisasi\n",
    "std_df_train"
   ]
  },
  {
   "cell_type": "code",
   "execution_count": 11,
   "metadata": {},
   "outputs": [
    {
     "data": {
      "text/plain": [
       "[0.7, 0.6138613861386139]"
      ]
     },
     "execution_count": 11,
     "metadata": {},
     "output_type": "execute_result"
    }
   ],
   "source": [
    "# menampilkan data test yang telah distandarisasi\n",
    "std_test_data"
   ]
  },
  {
   "cell_type": "code",
   "execution_count": 12,
   "metadata": {},
   "outputs": [
    {
     "data": {
      "image/png": "[encoded data removed]",
      "text/plain": [
       "<Figure size 432x288 with 1 Axes>"
      ]
     },
     "metadata": {
      "needs_background": "light"
     },
     "output_type": "display_data"
    }
   ],
   "source": [
    "# memplot data train dan data test yang telah distandarisasi\n",
    "plot_data(std_df_train, std_test_data)"
   ]
  },
  {
   "cell_type": "code",
   "execution_count": 13,
   "metadata": {},
   "outputs": [
    {
     "name": "stdout",
     "output_type": "stream",
     "text": [
      "    Distance To Test Data Default\n",
      "0                0.765245       N\n",
      "1                0.520012       N\n",
      "2                0.315961       N\n",
      "3                0.924537       N\n",
      "4                0.342763       N\n",
      "5                0.621953       N\n",
      "6                0.666905       Y\n",
      "7                0.443675       Y\n",
      "8                0.365008       Y\n",
      "9                0.386139       Y\n",
      "10               0.377085       Y\n",
      "\n",
      "Default Data Test : \u001b[1mN\u001b[0m\n"
     ]
    }
   ],
   "source": [
    "# menjalankan algoritma KNN dan menampilkan predicted label\n",
    "print('\\nDefault Data Test : ' + '\\033[1m' + knn_classifier(std_df_train, std_test_data) + '\\033[0m')"
   ]
  },
  {
   "cell_type": "code",
   "execution_count": null,
   "metadata": {},
   "outputs": [],
   "source": []
  },
  {
   "cell_type": "code",
   "execution_count": null,
   "metadata": {},
   "outputs": [],
   "source": []
  }
 ],
 "metadata": {
  "kernelspec": {
   "display_name": "Python 3",
   "language": "python",
   "name": "python3"
  },
  "language_info": {
   "codemirror_mode": {
    "name": "ipython",
    "version": 3
   },
   "file_extension": ".py",
   "mimetype": "text/x-python",
   "name": "python",
   "nbconvert_exporter": "python",
   "pygments_lexer": "ipython3",
   "version": "3.7.0"
  }
 },
 "nbformat": 4,
 "nbformat_minor": 2
}
